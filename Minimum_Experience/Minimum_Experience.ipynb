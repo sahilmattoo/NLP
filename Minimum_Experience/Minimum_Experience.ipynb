{
 "cells": [
  {
   "cell_type": "code",
   "execution_count": 2,
   "metadata": {},
   "outputs": [],
   "source": [
    "from nltk.tokenize import word_tokenize\n",
    "import concepts_keywords as nounphrase\n",
    "import math"
   ]
  },
  {
   "cell_type": "code",
   "execution_count": 3,
   "metadata": {},
   "outputs": [],
   "source": [
    "text = \"0 to 10 years in python\""
   ]
  },
  {
   "cell_type": "code",
   "execution_count": 4,
   "metadata": {},
   "outputs": [],
   "source": [
    "def readText(text):\n",
    "    # Parse the input\n",
    "    result = text.split(\"\\n\")\n",
    "    sentences = [each for each in result if len(each)>1]\n",
    "    return sentences\n",
    "\n",
    "def is_number(s):\n",
    "    try:\n",
    "        float(s)\n",
    "        return True\n",
    "    except ValueError:\n",
    "        return False\n",
    "\n",
    "def augumentQuery(text , stringToken):\n",
    "    \n",
    "    years_token = ['yrs', 'yr', 'years', 'year']\n",
    "    month_token = ['mnts', 'mnt', 'months', 'month']\n",
    "    augumentSentence = text\n",
    "    tag = \"none\"\n",
    "    for each in years_token:\n",
    "        if each in stringToken:\n",
    "            augumentSentence = text.replace(each, 'years')\n",
    "            tag = \"years\"\n",
    "            #return augumentSentence, tag \n",
    "    for each in month_token:\n",
    "        if each in stringToken:\n",
    "            augumentSentence = text.replace(each, 'months')\n",
    "            tag = \"months\"\n",
    "            #return augumentSentence, tag \n",
    "    return augumentSentence, tag\n",
    "\n",
    "def experience_years(text):\n",
    "    \"\"\"\n",
    "    Parameters\n",
    "    ----------\n",
    "    text : Input Description of JD (Primary Skill)\n",
    "    Returns\n",
    "    -------\n",
    "    exp : Integer\n",
    "        Convert months into years\n",
    "    \"\"\"\n",
    "    text = text.lower().strip()\n",
    "    tokens = word_tokenize(text)\n",
    "    \n",
    "    # Check if Experience in in Months or Years\n",
    "    \n",
    "    augumentSentence, tag = augumentQuery(text , tokens)\n",
    "    del text\n",
    "    text = augumentSentence\n",
    "   \n",
    "    # Create a Dataframe\n",
    "    dicta = nounphrase.FindPos(text)\n",
    "    DF = nounphrase.Trans_to_dataframe(dicta)\n",
    "    \n",
    "    \"\"\" extract prefix as number and Suffix as Month/Year\"\"\"\n",
    "    ex = [(lemma,nxt) for ent,pos,lemma,nxt in zip(DF['Ent'], DF['Pos'],DF['Lemma'], DF[\"Head_Text\"]) if (ent == 'DATE') & (pos == 'NUM')]\n",
    "    #print(\"EX1:::::\",ex)\n",
    "    # lemma is year of experience\n",
    "    # nxt is the tag \n",
    "    exp_list = [] ## Hold list of experience\n",
    "    \"\"\" If string has experience mentioned in years\"\"\"\n",
    "    if len(ex) > 0:\n",
    "        #print(\"EX2:::::\",ex)\n",
    "        # Iterate the List of Experience\n",
    "\n",
    "        # if length of list with tuple is > 1\n",
    "        # Then Range is specified in experience EX--- 0 to 5 years\n",
    "        if len(ex) > 1:\n",
    "            #print(text, \"Date is in range\")\n",
    "            ## check if range is in Months or Years using \"tag\" field \n",
    "            ## check the correct Tuple to find the range (tuple with both values as digit)\n",
    "            ## Range will generate two tuple, we need to select Tuple with digits\n",
    "            for each in ex:\n",
    "                # Both values of tuple are NON String\n",
    "                if (is_number(each[0])) &  (is_number(each[1])):\n",
    "                    # Define the list to hold minimum value\n",
    "                    minimumListValue = list()\n",
    "                    # Convert String into Float\n",
    "                    T1, T2 = float(each[0]), float(each[1])\n",
    "                    # Check if Experience is in Months :::\n",
    "                    if tag == 'months':\n",
    "                        ## Convert Months into years\n",
    "                        MT1, MT2 = math.ceil(T1/12), math.ceil(T2/12)\n",
    "                        #YT2 = math.ceil(T2/12)\n",
    "                        #print(\"Month Converted Values\", MT1, MT2)\n",
    "                        # Minimum Value\n",
    "                        minval = min(MT1, MT2)\n",
    "                        #print(\"minval\", minval)\n",
    "                        return minval\n",
    "                        # Append to the Experience\n",
    "                        #exp_list.append(int(minval))\n",
    "                    # If Experience not in Months, i.e in Years\n",
    "                    else:\n",
    "                        #print(\"Exp in Years\")\n",
    "                        minval = min(T1, T2)\n",
    "                        return minval\n",
    "                        #exp_list.append(int(minval))\n",
    "        else:\n",
    "            #print(text, \"Date is in singular format\")\n",
    "            # Check the type of Date\n",
    "            for each in ex:\n",
    "                T1 = float(each[0])\n",
    "                # Check if Experience is in Months :::\n",
    "                if tag == 'months':\n",
    "                    ## Convert Months into years\n",
    "                    MT1 = math.ceil(T1/12)\n",
    "                    return MT1\n",
    "                else:\n",
    "                    return T1\n",
    "    else:\n",
    "        return -1"
   ]
  },
  {
   "cell_type": "code",
   "execution_count": 5,
   "metadata": {},
   "outputs": [],
   "source": [
    "\"\"\" Find Minimum Experience \"\"\"\n",
    "def minimumExperience(minEx):\n",
    "    \n",
    "    minimum_experience = list(set(minEx))\n",
    "    minimumEx = 0\n",
    "    \n",
    "    for each in minimum_experience[:]:\n",
    "        if each == 0:\n",
    "            minimum_experience.remove(each)\n",
    "        \n",
    "    #minimum_experience  = [minimum_experience.remove(each) for each in minimum_experience[:] if each == 0]\n",
    "    # List generation does not work\n",
    "    \n",
    "    if len(minimum_experience) >= 1:\n",
    "        minimumEx = min(minimum_experience)\n",
    "       \n",
    "    else:\n",
    "        minimumEx = 0\n",
    "       \n",
    "          \n",
    "    return minimumEx "
   ]
  },
  {
   "cell_type": "code",
   "execution_count": 6,
   "metadata": {},
   "outputs": [],
   "source": [
    "text = \"2 yrs in python \\n\\n 1.5 years in java \\n\\n 0 to 10 Years in Python \\n\\n 2 to 10 years in java \\n 0 to 6 months in agile \\n\\n 6 to 9 months in Agile\""
   ]
  },
  {
   "cell_type": "code",
   "execution_count": 7,
   "metadata": {},
   "outputs": [
    {
     "data": {
      "text/plain": [
       "['2 yrs in python ',\n",
       " ' 1.5 years in java ',\n",
       " ' 0 to 10 Years in Python ',\n",
       " ' 2 to 10 years in java ',\n",
       " ' 0 to 6 months in agile ',\n",
       " ' 6 to 9 months in Agile']"
      ]
     },
     "execution_count": 7,
     "metadata": {},
     "output_type": "execute_result"
    }
   ],
   "source": [
    "sentences = readText(text)\n",
    "sentences"
   ]
  },
  {
   "cell_type": "code",
   "execution_count": 8,
   "metadata": {},
   "outputs": [
    {
     "data": {
      "text/plain": [
       "[2.0, 1.5, 0.0, 2.0, 0, 1]"
      ]
     },
     "execution_count": 8,
     "metadata": {},
     "output_type": "execute_result"
    }
   ],
   "source": [
    "minumum_experience = []\n",
    "for sentence in sentences:\n",
    "    \n",
    "    ex = experience_years(sentence)\n",
    "    minumum_experience.append(ex)\n",
    "minumum_experience"
   ]
  },
  {
   "cell_type": "code",
   "execution_count": 9,
   "metadata": {},
   "outputs": [
    {
     "data": {
      "text/plain": [
       "1"
      ]
     },
     "execution_count": 9,
     "metadata": {},
     "output_type": "execute_result"
    }
   ],
   "source": [
    "minEx = minumum_experience\n",
    "minimumExperience(minEx)"
   ]
  },
  {
   "cell_type": "code",
   "execution_count": null,
   "metadata": {},
   "outputs": [],
   "source": []
  }
 ],
 "metadata": {
  "kernelspec": {
   "display_name": "Python 3",
   "language": "python",
   "name": "python3"
  },
  "language_info": {
   "codemirror_mode": {
    "name": "ipython",
    "version": 3
   },
   "file_extension": ".py",
   "mimetype": "text/x-python",
   "name": "python",
   "nbconvert_exporter": "python",
   "pygments_lexer": "ipython3",
   "version": "3.6.10"
  }
 },
 "nbformat": 4,
 "nbformat_minor": 4
}
