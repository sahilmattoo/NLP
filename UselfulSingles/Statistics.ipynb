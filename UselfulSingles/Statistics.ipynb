{
 "cells": [
  {
   "cell_type": "markdown",
   "metadata": {},
   "source": [
    "    A statistical hypothesis test makes an assumption about the outcome, called the null hypothesis.\n",
    "    p-value (p): Probability of obtaining a result equal to or more extreme than was observed in the data.\n",
    "        p <= alpha: reject H0, different distribution.\n",
    "        p > alpha: fail to reject H0, same distribution.\n",
    "    Significance level (alpha): Boundary for specifying a statistically significant finding when interpreting the p-value.\n",
    "    \n",
    "    There are two types of errors; they are:\n",
    "\n",
    "        Type I Error. Reject the null hypothesis when there is in fact no significant effect (false positive). The p-value is optimistically small.\n",
    "        Type II Error. Not reject the null hypothesis when there is a significant effect (false negative). The p-value is pessimistically large.\n",
    "        \n",
    "        Statistical power - or the power of a hypothesis test is the probability that the test correctly rejects the null hypothesis.\n",
    "        The higher the statistical power for a given experiment, the lower the probability of making a Type II (false negative) error. That is the higher the probability of detecting an effect when there is an effect.\n",
    "        \n",
    "        Power Analysis::\n",
    "        \n",
    "            Effect Size. The quantified magnitude of a result present in the population. Effect size is calculated using a specific statistical measure, such as Pearson’s correlation coefficient for the relationship between variables or Cohen’s d for the difference between groups.\n",
    "            \n",
    "        Sample Size. The number of observations in the sample.\n",
    "        \n",
    "        Significance. The significance level used in the statistical test, e.g. alpha. Often set to 5% or 0.05.\n",
    "        \n",
    "        Statistical Power. The probability of accepting the alternative hypothesis if it is true.\n"
   ]
  },
  {
   "cell_type": "code",
   "execution_count": 1,
   "metadata": {},
   "outputs": [
    {
     "name": "stdout",
     "output_type": "stream",
     "text": [
      "Sample Size: 25.525\n"
     ]
    }
   ],
   "source": [
    "# estimate sample size via power analysis\n",
    "from statsmodels.stats.power import TTestIndPower\n",
    "# parameters for power analysis\n",
    "effect = 0.8\n",
    "alpha = 0.05\n",
    "power = 0.8\n",
    "# perform power analysis\n",
    "analysis = TTestIndPower()\n",
    "result = analysis.solve_power(effect, power=power, nobs1=None, ratio=1.0, alpha=alpha)\n",
    "print('Sample Size: %.3f' % result)"
   ]
  },
  {
   "cell_type": "code",
   "execution_count": null,
   "metadata": {},
   "outputs": [],
   "source": []
  }
 ],
 "metadata": {
  "kernelspec": {
   "display_name": "Python 3",
   "language": "python",
   "name": "python3"
  },
  "language_info": {
   "codemirror_mode": {
    "name": "ipython",
    "version": 3
   },
   "file_extension": ".py",
   "mimetype": "text/x-python",
   "name": "python",
   "nbconvert_exporter": "python",
   "pygments_lexer": "ipython3",
   "version": "3.6.10"
  }
 },
 "nbformat": 4,
 "nbformat_minor": 4
}
