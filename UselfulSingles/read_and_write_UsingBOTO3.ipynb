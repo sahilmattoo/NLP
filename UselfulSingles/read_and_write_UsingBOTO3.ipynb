{
 "cells": [
  {
   "cell_type": "code",
   "execution_count": 2,
   "id": "6250fec9",
   "metadata": {},
   "outputs": [],
   "source": [
    "import boto3\n",
    "import re\n",
    "import sagemaker\n",
    "s3 = boto3.resource('s3')"
   ]
  },
  {
   "cell_type": "markdown",
   "id": "a0914e92",
   "metadata": {},
   "source": [
    "# Upload Data to S3"
   ]
  },
  {
   "cell_type": "code",
   "execution_count": 41,
   "id": "4ebfc788",
   "metadata": {},
   "outputs": [],
   "source": [
    "bucket_name = 'aes-sahil-sagemaker'\n",
    "filename = 'QNA_Mertics.xlsx'\n",
    "s3_folder_location = 'sentimentanalysis/data'+'/'+filename"
   ]
  },
  {
   "cell_type": "code",
   "execution_count": 42,
   "id": "6806a020",
   "metadata": {},
   "outputs": [],
   "source": [
    "def write_to_s3(filename, bucket, key):\n",
    "    with open(filename,'rb') as f: # Read in binary mode\n",
    "        return boto3.Session().resource('s3').Bucket(bucket).Object(key).upload_fileobj(f)"
   ]
  },
  {
   "cell_type": "code",
   "execution_count": 43,
   "id": "8a588419",
   "metadata": {},
   "outputs": [],
   "source": [
    "write_to_s3(filename,bucket_name,s3_folder_location)"
   ]
  },
  {
   "cell_type": "markdown",
   "id": "0b0cd98b",
   "metadata": {},
   "source": [
    "# Get Data from S3"
   ]
  },
  {
   "cell_type": "code",
   "execution_count": 45,
   "id": "1dc621ec",
   "metadata": {},
   "outputs": [],
   "source": [
    "filename = 'demo_file.recordio'\n",
    "bucket = 'aes-sahil-sagemaker'\n",
    "key = 'data_format/'+filename"
   ]
  },
  {
   "cell_type": "code",
   "execution_count": 46,
   "id": "c7d4df92",
   "metadata": {},
   "outputs": [],
   "source": [
    "def upload_from_s3(filename, bucket, key):\n",
    "    with open(filename,'wb') as f: # Read in binary mode\n",
    "        return boto3.Session().resource('s3').Bucket(bucket).Object(key).download_fileobj(f)"
   ]
  },
  {
   "cell_type": "code",
   "execution_count": 47,
   "id": "43cfa5a0",
   "metadata": {},
   "outputs": [],
   "source": [
    "upload_from_s3(filename, bucket, key)"
   ]
  },
  {
   "cell_type": "code",
   "execution_count": null,
   "id": "b78df092",
   "metadata": {},
   "outputs": [],
   "source": []
  }
 ],
 "metadata": {
  "kernelspec": {
   "display_name": "Python 3 (ipykernel)",
   "language": "python",
   "name": "python3"
  },
  "language_info": {
   "codemirror_mode": {
    "name": "ipython",
    "version": 3
   },
   "file_extension": ".py",
   "mimetype": "text/x-python",
   "name": "python",
   "nbconvert_exporter": "python",
   "pygments_lexer": "ipython3",
   "version": "3.9.7"
  }
 },
 "nbformat": 4,
 "nbformat_minor": 5
}
