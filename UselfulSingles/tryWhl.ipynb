{
 "cells": [
  {
   "cell_type": "code",
   "execution_count": 2,
   "metadata": {},
   "outputs": [
    {
     "name": "stdout",
     "output_type": "stream",
     "text": [
      " Volume in drive C is OSDisk\n",
      " Volume Serial Number is 62C9-B67D\n",
      "\n",
      " Directory of C:\\Users\\smattoo5\\OneDrive - DXC Production\\Desktop\\GLIM\n",
      "\n",
      "20-04-2021  15:49    <DIR>          .\n",
      "20-04-2021  15:49    <DIR>          ..\n",
      "20-04-2021  15:49    <DIR>          .ipynb_checkpoints\n",
      "26-03-2021  23:43    <DIR>          Additional Content\n",
      "05-03-2021  22:49    <DIR>          Books\n",
      "04-03-2021  16:27           626,214 Borderline-SMOTE.pdf\n",
      "14-03-2021  10:24    <DIR>          Deploy\n",
      "08-04-2021  20:38    <DIR>          ES_Pr\n",
      "20-04-2021  15:44            10,756 JDParser-0.1.0-py3-none-any.whl\n",
      "16-04-2021  19:52           876,699 MahalanobisDistance.pdf\n",
      "20-04-2021  15:19    <DIR>          Module 1 - Intro to Python\n",
      "20-04-2021  15:27    <DIR>          OLD_Dump\n",
      "06-04-2021  19:20             6,834 RegularExpression.ipynb\n",
      "20-03-2021  18:51             3,936 Selenium.ipynb\n",
      "10-01-2021  11:56            62,286 Session.pptx\n",
      "04-03-2021  16:28           526,075 SMOTE.pdf\n",
      "13-03-2021  19:58    <DIR>          Test\n",
      "20-04-2021  15:48               556 tryWhl.ipynb\n",
      "               8 File(s)      2,113,356 bytes\n",
      "              10 Dir(s)  128,132,009,984 bytes free\n"
     ]
    }
   ],
   "source": [
    "ls"
   ]
  },
  {
   "cell_type": "code",
   "execution_count": 3,
   "metadata": {},
   "outputs": [
    {
     "name": "stdout",
     "output_type": "stream",
     "text": [
      "Processing c:\\users\\smattoo5\\onedrive - dxc production\\desktop\\glim\\jdparser-0.1.0-py3-none-any.whl\n",
      "Requirement already satisfied: word2number in c:\\users\\smattoo5\\anaconda3\\envs\\aes\\lib\\site-packages (from JDParser==0.1.0) (1.1)\n",
      "Requirement already satisfied: nltk in c:\\users\\smattoo5\\anaconda3\\envs\\aes\\lib\\site-packages (from JDParser==0.1.0) (3.5)\n",
      "Requirement already satisfied: spacy in c:\\users\\smattoo5\\anaconda3\\envs\\aes\\lib\\site-packages (from JDParser==0.1.0) (2.3.5)\n",
      "Requirement already satisfied: en-core-web-sm in c:\\users\\smattoo5\\anaconda3\\envs\\aes\\lib\\site-packages (from JDParser==0.1.0) (2.3.1)\n",
      "Requirement already satisfied: setuptools in c:\\users\\smattoo5\\anaconda3\\envs\\aes\\lib\\site-packages (from spacy->JDParser==0.1.0) (49.2.0.post20200714)\n",
      "Requirement already satisfied: plac<1.2.0,>=0.9.6 in c:\\users\\smattoo5\\anaconda3\\envs\\aes\\lib\\site-packages (from spacy->JDParser==0.1.0) (0.9.6)\n",
      "Requirement already satisfied: tqdm<5.0.0,>=4.38.0 in c:\\users\\smattoo5\\anaconda3\\envs\\aes\\lib\\site-packages (from spacy->JDParser==0.1.0) (4.47.0)\n",
      "Requirement already satisfied: murmurhash<1.1.0,>=0.28.0 in c:\\users\\smattoo5\\anaconda3\\envs\\aes\\lib\\site-packages (from spacy->JDParser==0.1.0) (1.0.5)\n",
      "Requirement already satisfied: catalogue<1.1.0,>=0.0.7 in c:\\users\\smattoo5\\anaconda3\\envs\\aes\\lib\\site-packages (from spacy->JDParser==0.1.0) (1.0.0)\n",
      "Requirement already satisfied: preshed<3.1.0,>=3.0.2 in c:\\users\\smattoo5\\anaconda3\\envs\\aes\\lib\\site-packages (from spacy->JDParser==0.1.0) (3.0.5)\n",
      "Requirement already satisfied: cymem<2.1.0,>=2.0.2 in c:\\users\\smattoo5\\anaconda3\\envs\\aes\\lib\\site-packages (from spacy->JDParser==0.1.0) (2.0.5)\n",
      "Requirement already satisfied: thinc<7.5.0,>=7.4.1 in c:\\users\\smattoo5\\anaconda3\\envs\\aes\\lib\\site-packages (from spacy->JDParser==0.1.0) (7.4.5)\n",
      "Requirement already satisfied: requests<3.0.0,>=2.13.0 in c:\\users\\smattoo5\\anaconda3\\envs\\aes\\lib\\site-packages (from spacy->JDParser==0.1.0) (2.24.0)\n",
      "Requirement already satisfied: numpy>=1.15.0 in c:\\users\\smattoo5\\anaconda3\\envs\\aes\\lib\\site-packages (from spacy->JDParser==0.1.0) (1.17.0)\n",
      "Requirement already satisfied: srsly<1.1.0,>=1.0.2 in c:\\users\\smattoo5\\anaconda3\\envs\\aes\\lib\\site-packages (from spacy->JDParser==0.1.0) (1.0.5)\n",
      "Requirement already satisfied: blis<0.8.0,>=0.4.0 in c:\\users\\smattoo5\\anaconda3\\envs\\aes\\lib\\site-packages (from spacy->JDParser==0.1.0) (0.7.4)\n",
      "Requirement already satisfied: wasabi<1.1.0,>=0.4.0 in c:\\users\\smattoo5\\anaconda3\\envs\\aes\\lib\\site-packages (from spacy->JDParser==0.1.0) (0.8.2)\n",
      "Requirement already satisfied: importlib-metadata>=0.20 in c:\\users\\smattoo5\\anaconda3\\envs\\aes\\lib\\site-packages (from catalogue<1.1.0,>=0.0.7->spacy->JDParser==0.1.0) (1.7.0)\n",
      "Requirement already satisfied: zipp>=0.5 in c:\\users\\smattoo5\\anaconda3\\envs\\aes\\lib\\site-packages (from importlib-metadata>=0.20->catalogue<1.1.0,>=0.0.7->spacy->JDParser==0.1.0) (3.1.0)\n",
      "Requirement already satisfied: chardet<4,>=3.0.2 in c:\\users\\smattoo5\\anaconda3\\envs\\aes\\lib\\site-packages (from requests<3.0.0,>=2.13.0->spacy->JDParser==0.1.0) (3.0.4)\n",
      "Requirement already satisfied: certifi>=2017.4.17 in c:\\users\\smattoo5\\anaconda3\\envs\\aes\\lib\\site-packages (from requests<3.0.0,>=2.13.0->spacy->JDParser==0.1.0) (2020.12.5)\n",
      "Requirement already satisfied: urllib3!=1.25.0,!=1.25.1,<1.26,>=1.21.1 in c:\\users\\smattoo5\\anaconda3\\envs\\aes\\lib\\site-packages (from requests<3.0.0,>=2.13.0->spacy->JDParser==0.1.0) (1.25.9)\n",
      "Requirement already satisfied: idna<3,>=2.5 in c:\\users\\smattoo5\\anaconda3\\envs\\aes\\lib\\site-packages (from requests<3.0.0,>=2.13.0->spacy->JDParser==0.1.0) (2.10)\n",
      "Requirement already satisfied: joblib in c:\\users\\smattoo5\\anaconda3\\envs\\aes\\lib\\site-packages (from nltk->JDParser==0.1.0) (0.16.0)\n",
      "Requirement already satisfied: regex in c:\\users\\smattoo5\\anaconda3\\envs\\aes\\lib\\site-packages (from nltk->JDParser==0.1.0) (2020.6.8)\n",
      "Requirement already satisfied: click in c:\\users\\smattoo5\\anaconda3\\envs\\aes\\lib\\site-packages (from nltk->JDParser==0.1.0) (7.1.2)\n",
      "Installing collected packages: JDParser\n",
      "Successfully installed JDParser-0.1.0\n"
     ]
    }
   ],
   "source": [
    "!pip install --trusted-host pypi.org --trusted-host files.pythonhosted.org JDParser-0.1.0-py3-none-any.whl"
   ]
  },
  {
   "cell_type": "code",
   "execution_count": 4,
   "metadata": {},
   "outputs": [],
   "source": [
    "import jdparser"
   ]
  },
  {
   "cell_type": "code",
   "execution_count": 5,
   "metadata": {},
   "outputs": [
    {
     "ename": "ModuleNotFoundError",
     "evalue": "No module named 'concepts_keywords'",
     "output_type": "error",
     "traceback": [
      "\u001b[1;31m---------------------------------------------------------------------------\u001b[0m",
      "\u001b[1;31mModuleNotFoundError\u001b[0m                       Traceback (most recent call last)",
      "\u001b[1;32m<ipython-input-5-a20cd2b8d9a7>\u001b[0m in \u001b[0;36m<module>\u001b[1;34m\u001b[0m\n\u001b[1;32m----> 1\u001b[1;33m \u001b[1;32mfrom\u001b[0m \u001b[0mjdparser\u001b[0m \u001b[1;32mimport\u001b[0m \u001b[0mparsing\u001b[0m\u001b[1;33m\u001b[0m\u001b[1;33m\u001b[0m\u001b[0m\n\u001b[0m",
      "\u001b[1;32m~\\anaconda3\\envs\\AES\\lib\\site-packages\\jdparser\\parsing.py\u001b[0m in \u001b[0;36m<module>\u001b[1;34m\u001b[0m\n\u001b[0;32m     27\u001b[0m \u001b[1;32mimport\u001b[0m \u001b[0mast\u001b[0m \u001b[1;31m# convert dictionary string to dictionary\u001b[0m\u001b[1;33m\u001b[0m\u001b[1;33m\u001b[0m\u001b[0m\n\u001b[0;32m     28\u001b[0m \u001b[1;33m\u001b[0m\u001b[0m\n\u001b[1;32m---> 29\u001b[1;33m \u001b[1;32mimport\u001b[0m \u001b[0mconcepts_keywords\u001b[0m \u001b[1;32mas\u001b[0m \u001b[0mnounphrase\u001b[0m\u001b[1;33m\u001b[0m\u001b[1;33m\u001b[0m\u001b[0m\n\u001b[0m\u001b[0;32m     30\u001b[0m \u001b[1;31m#import PoolPartyExtraction as pp # Not Needed\u001b[0m\u001b[1;33m\u001b[0m\u001b[1;33m\u001b[0m\u001b[1;33m\u001b[0m\u001b[0m\n\u001b[0;32m     31\u001b[0m \u001b[1;31m#import medianParser as par\u001b[0m\u001b[1;33m\u001b[0m\u001b[1;33m\u001b[0m\u001b[1;33m\u001b[0m\u001b[0m\n",
      "\u001b[1;31mModuleNotFoundError\u001b[0m: No module named 'concepts_keywords'"
     ]
    }
   ],
   "source": [
    "from jdparser import parsing"
   ]
  },
  {
   "cell_type": "code",
   "execution_count": 8,
   "metadata": {},
   "outputs": [],
   "source": [
    "from jdparser import concepts_keywords"
   ]
  },
  {
   "cell_type": "code",
   "execution_count": 9,
   "metadata": {},
   "outputs": [
    {
     "data": {
      "text/plain": [
       "['a country', 'India']"
      ]
     },
     "execution_count": 9,
     "metadata": {},
     "output_type": "execute_result"
    }
   ],
   "source": [
    "concepts_keywords.Main(\"India is a country\")"
   ]
  },
  {
   "cell_type": "code",
   "execution_count": 10,
   "metadata": {},
   "outputs": [
    {
     "ename": "ModuleNotFoundError",
     "evalue": "No module named 'concepts_keywords'",
     "output_type": "error",
     "traceback": [
      "\u001b[1;31m---------------------------------------------------------------------------\u001b[0m",
      "\u001b[1;31mModuleNotFoundError\u001b[0m                       Traceback (most recent call last)",
      "\u001b[1;32m<ipython-input-10-e5dabc63f7f6>\u001b[0m in \u001b[0;36m<module>\u001b[1;34m\u001b[0m\n\u001b[1;32m----> 1\u001b[1;33m \u001b[1;32mfrom\u001b[0m \u001b[0mjdparser\u001b[0m \u001b[1;32mimport\u001b[0m \u001b[0mparsing\u001b[0m \u001b[1;32mas\u001b[0m \u001b[0mpar\u001b[0m\u001b[1;33m\u001b[0m\u001b[1;33m\u001b[0m\u001b[0m\n\u001b[0m",
      "\u001b[1;32m~\\anaconda3\\envs\\AES\\lib\\site-packages\\jdparser\\parsing.py\u001b[0m in \u001b[0;36m<module>\u001b[1;34m\u001b[0m\n\u001b[0;32m     27\u001b[0m \u001b[1;32mimport\u001b[0m \u001b[0mast\u001b[0m \u001b[1;31m# convert dictionary string to dictionary\u001b[0m\u001b[1;33m\u001b[0m\u001b[1;33m\u001b[0m\u001b[0m\n\u001b[0;32m     28\u001b[0m \u001b[1;33m\u001b[0m\u001b[0m\n\u001b[1;32m---> 29\u001b[1;33m \u001b[1;32mimport\u001b[0m \u001b[0mconcepts_keywords\u001b[0m \u001b[1;32mas\u001b[0m \u001b[0mnounphrase\u001b[0m\u001b[1;33m\u001b[0m\u001b[1;33m\u001b[0m\u001b[0m\n\u001b[0m\u001b[0;32m     30\u001b[0m \u001b[1;31m#import PoolPartyExtraction as pp # Not Needed\u001b[0m\u001b[1;33m\u001b[0m\u001b[1;33m\u001b[0m\u001b[1;33m\u001b[0m\u001b[0m\n\u001b[0;32m     31\u001b[0m \u001b[1;31m#import medianParser as par\u001b[0m\u001b[1;33m\u001b[0m\u001b[1;33m\u001b[0m\u001b[1;33m\u001b[0m\u001b[0m\n",
      "\u001b[1;31mModuleNotFoundError\u001b[0m: No module named 'concepts_keywords'"
     ]
    }
   ],
   "source": [
    "from jdparser import parsing as par"
   ]
  },
  {
   "cell_type": "code",
   "execution_count": null,
   "metadata": {},
   "outputs": [],
   "source": []
  }
 ],
 "metadata": {
  "kernelspec": {
   "display_name": "Python 3",
   "language": "python",
   "name": "python3"
  },
  "language_info": {
   "codemirror_mode": {
    "name": "ipython",
    "version": 3
   },
   "file_extension": ".py",
   "mimetype": "text/x-python",
   "name": "python",
   "nbconvert_exporter": "python",
   "pygments_lexer": "ipython3",
   "version": "3.6.10"
  }
 },
 "nbformat": 4,
 "nbformat_minor": 4
}
